{
 "cells": [
  {
   "cell_type": "markdown",
   "metadata": {},
   "source": [
    "# Tema 02: Operadores y expresiones (Enunciados)\n",
    "*Nota: Estos ejercicios son optativos para hacer al final de la unidad y están pensados para apoyar tu aprendizaje*."
   ]
  },
  {
   "cell_type": "markdown",
   "metadata": {},
   "source": [
    "**1) Realiza un programa que lea 2 números por teclado y determine los siguientes aspectos (es suficiene con mostrar True o False):**\n",
    "* Si los dos números son iguales\n",
    "* Si los dos números son diferentes\n",
    "* Si el primero es mayor que el segundo\n",
    "* Si el segundo es mayor o igual que el primero"
   ]
  },
  {
   "cell_type": "code",
   "execution_count": 1,
   "metadata": {},
   "outputs": [
    {
     "name": "stdout",
     "output_type": "stream",
     "text": [
      "Introduzca el primer numero: 1\n",
      "Introduzca el segundo numero numero: 2\n",
      "¿Son iguales:  False\n",
      "¿Los 2 numeros son distintos?:  True\n",
      "¿El primer numero es mayor que el segundo?:  True\n",
      "¿El segundo numero es mayor o igual que el primero?:  True\n"
     ]
    }
   ],
   "source": [
    "# Completa el ejercicio aquí\n",
    "# Este ejercicio es el ya resuelto\n",
    "n1 = int (input (\"Introduzca el primer numero: \"))\n",
    "n2 = int (input (\"Introduzca el segundo numero numero: \"))\n",
    "\n",
    "print(\"¿Son iguales: \", n1 == n2)\n",
    "print(\"¿Los 2 numeros son distintos?: \",n1 != n2)                        \n",
    "print(\"¿El primer numero es mayor que el segundo?: \",n1 > n2)\n",
    "print(\"¿El segundo numero es mayor o igual que el primero?: \", n2 >= n1) "
   ]
  },
  {
   "cell_type": "markdown",
   "metadata": {},
   "source": [
    "**2) Utilizando operadores lógicos, determina si una cadena de texto introducida por el usuario tiene una longitud mayor o igual que 3 y a su vez es menor que 10 (es suficiene con mostrar True o False):**"
   ]
  },
  {
   "cell_type": "code",
   "execution_count": 2,
   "metadata": {},
   "outputs": [
    {
     "name": "stdout",
     "output_type": "stream",
     "text": [
      "Escriba una cadena: hola\n",
      "¿La longitud de la cadena es mayor o igual que 3 y menor a 10? True\n"
     ]
    }
   ],
   "source": [
    "# Completa el ejercicio aquí\n",
    "cadena = input(\"Escriba una cadena: \")\n",
    "condiciones = len(cadena) >= 3 and len(cadena) < 10\n",
    "\n",
    "print(\"¿La longitud de la cadena es mayor o igual que 3 y menor a 10?\", condiciones)"
   ]
  },
  {
   "cell_type": "markdown",
   "metadata": {},
   "source": [
    "**3) Realiza un programa que cumpla el siguiente algoritmo utilizando siempre que sea posible operadores en asignación:**\n",
    "* Guarda en una variable numero_magico el valor 12345679 (sin el 8)\n",
    "* Lee por pantalla otro numero_usuario, especifica que sea entre 1 y 9 (asegúrate que es un número)\n",
    "* Multiplica el numero_usuario por 9 en sí mismo\n",
    "* Multiplica el numero_magico por el numero_usuario en sí mismo\n",
    "* Finalmente muestra el valor final del numero_magico por pantalla\n"
   ]
  },
  {
   "cell_type": "code",
   "execution_count": 4,
   "metadata": {},
   "outputs": [
    {
     "name": "stdout",
     "output_type": "stream",
     "text": [
      "Escriba un numero del 1 al 9: 1\n",
      "El valor final del numero_magico es:  111111111\n"
     ]
    }
   ],
   "source": [
    "# Completa el ejercicio aquí\n",
    "numero_magico = 12345679\n",
    "numero_usuario = int(input(\"Escriba un numero del 1 al 9: \"))\n",
    "numero_magico *= 9\n",
    "numero_magico *= numero_usuario \n",
    "print(\"El valor final del numero_magico es: \",numero_magico)"
   ]
  },
  {
   "cell_type": "code",
   "execution_count": null,
   "metadata": {},
   "outputs": [],
   "source": []
  }
 ],
 "metadata": {
  "anaconda-cloud": {},
  "kernelspec": {
   "display_name": "Python 3",
   "language": "python",
   "name": "python3"
  },
  "language_info": {
   "codemirror_mode": {
    "name": "ipython",
    "version": 3
   },
   "file_extension": ".py",
   "mimetype": "text/x-python",
   "name": "python",
   "nbconvert_exporter": "python",
   "pygments_lexer": "ipython3",
   "version": "3.9.1"
  }
 },
 "nbformat": 4,
 "nbformat_minor": 1
}
